{
 "cells": [
  {
   "cell_type": "markdown",
   "id": "ba8559bc-233b-496e-a011-379fb554ea80",
   "metadata": {},
   "source": [
    "### Is there a first move advantage? If so, how much?"
   ]
  },
  {
   "cell_type": "markdown",
   "id": "8c5fd4fd-9783-4217-9c17-4806f42fe2ac",
   "metadata": {},
   "source": [
    "We don't think there is a first move advantage yet because each players pick of pit is completely random. However, once we implement algorithms to improve decision making, there should be a first move advantage clearly present. "
   ]
  },
  {
   "cell_type": "markdown",
   "id": "777eb03b-bf13-44b4-9852-ca6aba65e027",
   "metadata": {},
   "source": [
    "### Report"
   ]
  },
  {
   "cell_type": "markdown",
   "id": "8ad0a503-37cb-439c-96cf-7afdc22e0a8b",
   "metadata": {},
   "source": [
    "The code is fully working and was able to run 100 games without error. All the rules are correctly implemented and the code runs extremely fast. We tested both 100 games and 1000 games, and both came back without an error in less then 5 seconds. \n",
    "\n",
    "At the bottom of the file, you can see game statistics for player 1 and player 2. This includes games lost, games won, games tied, and average number of turns across all games ran. \n",
    "\n",
    "For a few of the test games, we ran through the steps it took and made sure it followed the rules of the game. I found no errors when doing this."
   ]
  },
  {
   "cell_type": "code",
   "execution_count": null,
   "id": "db2d3427-39ab-4195-9642-29a19537d8cd",
   "metadata": {},
   "outputs": [],
   "source": []
  }
 ],
 "metadata": {
  "kernelspec": {
   "display_name": "Python 3 (ipykernel)",
   "language": "python",
   "name": "python3"
  },
  "language_info": {
   "codemirror_mode": {
    "name": "ipython",
    "version": 3
   },
   "file_extension": ".py",
   "mimetype": "text/x-python",
   "name": "python",
   "nbconvert_exporter": "python",
   "pygments_lexer": "ipython3",
   "version": "3.10.8"
  }
 },
 "nbformat": 4,
 "nbformat_minor": 5
}
